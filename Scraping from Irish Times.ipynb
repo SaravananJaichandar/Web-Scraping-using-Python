{
 "cells": [
  {
   "cell_type": "code",
   "execution_count": 1,
   "metadata": {},
   "outputs": [
    {
     "data": {
      "text/plain": [
       "'\\n\\n\\n\\n\\t\\t\\t\\t\\t\\t\\t\\t\\n\\t\\t\\t\\t\\t\\t\\t\\t\\t\\t\\t\\t\\t\\t\\t\\t\\t\\t\\t\\t\\t\\t\\t\\t\\t\\t\\t\\t\\t\\t\\t\\n\\n<!doctype html>\\n<!--[if lt IE 7]> <html class=\"no-js lt-ie9 lt-ie8 lt-ie7\" lang=\"en\" prefix=\"og:http://ogp.me/ns# fb:http://www.facebook.com/2008/fbml irishtimes:http://www.irishtimes.com/\" version=\"HTML+RDFa 1.1\"> <![endif]-->\\n<!--[if IE 7]>    <html class=\"no-js lt-ie9 lt-ie8\" lang=\"en\" prefix=\"og:http://ogp.me/ns# fb:http://www.facebook.com/2008/fbml irishtimes:http://www.irishtimes.com/\" version=\"HTML+RDFa 1.1\"> <![endif]-->\\n<!--[if IE 8]>    <ht'"
      ]
     },
     "execution_count": 1,
     "metadata": {},
     "output_type": "execute_result"
    }
   ],
   "source": [
    "import requests\n",
    "import pandas as pd\n",
    "r = requests.get(\"https://www.irishtimes.com/opinion/editorial/the-irish-times-view-on-suicide-patterns-an-urgent-situation-1.3503316\")\n",
    "r.text[:500]"
   ]
  },
  {
   "cell_type": "code",
   "execution_count": 2,
   "metadata": {},
   "outputs": [],
   "source": [
    "from bs4 import BeautifulSoup\n",
    "soup = BeautifulSoup(r.text,\"html.parser\")"
   ]
  },
  {
   "cell_type": "code",
   "execution_count": 3,
   "metadata": {},
   "outputs": [
    {
     "data": {
      "text/plain": [
       "4"
      ]
     },
     "execution_count": 3,
     "metadata": {},
     "output_type": "execute_result"
    }
   ],
   "source": [
    "results = soup.find_all('p', class_='no_name')\n",
    "\n",
    "len(results)"
   ]
  },
  {
   "cell_type": "code",
   "execution_count": 4,
   "metadata": {},
   "outputs": [
    {
     "data": {
      "text/plain": [
       "[<p class=\"no_name\">A dramatic increase in the number of young mothers dying by suicide in deprived parts of Dublin South Central amounts to a condemnation of social policies. Last year, for the first time, female suicide rates there equalled that of men, reflecting a threefold increase in ratio terms. The HSE community healthcare organisation described the development as unique to the area but cautioned that it could represent a developing trend.</p>,\n",
       " <p class=\"no_name\">Poverty, depression, social exclusion, isolation and alcohol or drug abuse are among the most frequent reasons why people take their own lives. Men are four times more likely to kill themselves than women. And, within the Traveller community, the male suicide rate is seven times higher than in the general population. These dreadful figures have remained relatively stable, even as government spending on mental and welfare help contracted sharply with the onset of the recession.</p>,\n",
       " <p class=\"no_name\">This new profile of women in their early 20s and 30s, with young school-going children, taking their own lives is deeply disturbing. It may reflect increasing housing uncertainty and income-based social pressures. Many of those affected had ongoing issues concerning poverty, homelessness, early school leaving and alcohol or drug abuse. Difficult living conditions contributed to severe mental distress.</p>,\n",
       " <p class=\"no_name\">Addressing the effects of social disadvantage through the provision of psychiatric services does help, even when waiting times are far too long. But multidisciplinary interventions, based on education, family healthcare facilities and drop-in centres – of the kind piloted in a number of deprived areas before the recession – are urgently required. Breaking the cycle of disadvantage is a vital step in preventing what is, ultimately, an act of despair. The avoidance of poverty is regarded, internationally, as a basic social justice measurement. Traditionally, <a href=\"/news\">Ireland</a> has had low rates of female suicide, particularly involving young mothers. But these figures point to a volatile situation that requires immediate attention and investment.</p>]"
      ]
     },
     "execution_count": 4,
     "metadata": {},
     "output_type": "execute_result"
    }
   ],
   "source": [
    "results"
   ]
  },
  {
   "cell_type": "code",
   "execution_count": 5,
   "metadata": {},
   "outputs": [
    {
     "data": {
      "text/plain": [
       "<p class=\"no_name\">A dramatic increase in the number of young mothers dying by suicide in deprived parts of Dublin South Central amounts to a condemnation of social policies. Last year, for the first time, female suicide rates there equalled that of men, reflecting a threefold increase in ratio terms. The HSE community healthcare organisation described the development as unique to the area but cautioned that it could represent a developing trend.</p>"
      ]
     },
     "execution_count": 5,
     "metadata": {},
     "output_type": "execute_result"
    }
   ],
   "source": [
    "results[0]"
   ]
  },
  {
   "cell_type": "code",
   "execution_count": 6,
   "metadata": {},
   "outputs": [
    {
     "data": {
      "text/plain": [
       "['A dramatic increase in the number of young mothers dying by suicide in deprived parts of Dublin South Central amounts to a condemnation of social policies. Last year, for the first time, female suicide rates there equalled that of men, reflecting a threefold increase in ratio terms. The HSE community healthcare organisation described the development as unique to the area but cautioned that it could represent a developing trend.']"
      ]
     },
     "execution_count": 6,
     "metadata": {},
     "output_type": "execute_result"
    }
   ],
   "source": [
    "para_one = results[0].contents\n",
    "para_one"
   ]
  },
  {
   "cell_type": "code",
   "execution_count": 7,
   "metadata": {},
   "outputs": [
    {
     "data": {
      "text/plain": [
       "['Poverty, depression, social exclusion, isolation and alcohol or drug abuse are among the most frequent reasons why people take their own lives. Men are four times more likely to kill themselves than women. And, within the Traveller community, the male suicide rate is seven times higher than in the general population. These dreadful figures have remained relatively stable, even as government spending on mental and welfare help contracted sharply with the onset of the recession.']"
      ]
     },
     "execution_count": 7,
     "metadata": {},
     "output_type": "execute_result"
    }
   ],
   "source": [
    "para_two = results[1].contents\n",
    "para_two"
   ]
  },
  {
   "cell_type": "code",
   "execution_count": 8,
   "metadata": {},
   "outputs": [
    {
     "data": {
      "text/plain": [
       "['This new profile of women in their early 20s and 30s, with young school-going children, taking their own lives is deeply disturbing. It may reflect increasing housing uncertainty and income-based social pressures. Many of those affected had ongoing issues concerning poverty, homelessness, early school leaving and alcohol or drug abuse. Difficult living conditions contributed to severe mental distress.']"
      ]
     },
     "execution_count": 8,
     "metadata": {},
     "output_type": "execute_result"
    }
   ],
   "source": [
    "para_three = results[2].contents\n",
    "para_three"
   ]
  },
  {
   "cell_type": "code",
   "execution_count": 9,
   "metadata": {
    "scrolled": true
   },
   "outputs": [
    {
     "data": {
      "text/plain": [
       "['Addressing the effects of social disadvantage through the provision of psychiatric services does help, even when waiting times are far too long. But multidisciplinary interventions, based on education, family healthcare facilities and drop-in centres – of the kind piloted in a number of deprived areas before the recession – are urgently required. Breaking the cycle of disadvantage is a vital step in preventing what is, ultimately, an act of despair. The avoidance of poverty is regarded, internationally, as a basic social justice measurement. Traditionally, ',\n",
       " <a href=\"/news\">Ireland</a>,\n",
       " ' has had low rates of female suicide, particularly involving young mothers. But these figures point to a volatile situation that requires immediate attention and investment.']"
      ]
     },
     "execution_count": 9,
     "metadata": {},
     "output_type": "execute_result"
    }
   ],
   "source": [
    "para_four = results[3].contents\n",
    "para_four"
   ]
  },
  {
   "cell_type": "code",
   "execution_count": 10,
   "metadata": {},
   "outputs": [
    {
     "name": "stdout",
     "output_type": "stream",
     "text": [
      "[nltk_data] Downloading package stopwords to\n",
      "[nltk_data]     /Users/saravananjaichandar/nltk_data...\n",
      "[nltk_data]   Package stopwords is already up-to-date!\n",
      "[nltk_data] Downloading package punkt to\n",
      "[nltk_data]     /Users/saravananjaichandar/nltk_data...\n",
      "[nltk_data]   Package punkt is already up-to-date!\n"
     ]
    },
    {
     "data": {
      "text/plain": [
       "True"
      ]
     },
     "execution_count": 10,
     "metadata": {},
     "output_type": "execute_result"
    }
   ],
   "source": [
    "import nltk\n",
    "nltk.download('stopwords')\n",
    "nltk.download('punkt')"
   ]
  },
  {
   "cell_type": "code",
   "execution_count": 11,
   "metadata": {},
   "outputs": [
    {
     "data": {
      "text/plain": [
       "'Poverty, depression, social exclusion, isolation and alcohol or drug abuse are among the most frequent reasons why people take their own lives. Men are four times more likely to kill themselves than women. And, within the Traveller community, the male suicide rate is seven times higher than in the general population. These dreadful figures have remained relatively stable, even as government spending on mental and welfare help contracted sharply with the onset of the recession.'"
      ]
     },
     "execution_count": 11,
     "metadata": {},
     "output_type": "execute_result"
    }
   ],
   "source": [
    "para_two_string = ''.join(para_two)\n",
    "para_two_string"
   ]
  },
  {
   "cell_type": "code",
   "execution_count": 12,
   "metadata": {},
   "outputs": [
    {
     "data": {
      "text/plain": [
       "str"
      ]
     },
     "execution_count": 12,
     "metadata": {},
     "output_type": "execute_result"
    }
   ],
   "source": [
    "type(para_two_string)"
   ]
  },
  {
   "cell_type": "code",
   "execution_count": 13,
   "metadata": {},
   "outputs": [
    {
     "data": {
      "text/plain": [
       "['Poverty',\n",
       " ',',\n",
       " 'depression',\n",
       " ',',\n",
       " 'social',\n",
       " 'exclusion',\n",
       " ',',\n",
       " 'isolation',\n",
       " 'and',\n",
       " 'alcohol',\n",
       " 'or',\n",
       " 'drug',\n",
       " 'abuse',\n",
       " 'are',\n",
       " 'among',\n",
       " 'the',\n",
       " 'most',\n",
       " 'frequent',\n",
       " 'reasons',\n",
       " 'why',\n",
       " 'people',\n",
       " 'take',\n",
       " 'their',\n",
       " 'own',\n",
       " 'lives',\n",
       " '.',\n",
       " 'Men',\n",
       " 'are',\n",
       " 'four',\n",
       " 'times',\n",
       " 'more',\n",
       " 'likely',\n",
       " 'to',\n",
       " 'kill',\n",
       " 'themselves',\n",
       " 'than',\n",
       " 'women',\n",
       " '.',\n",
       " 'And',\n",
       " ',',\n",
       " 'within',\n",
       " 'the',\n",
       " 'Traveller',\n",
       " 'community',\n",
       " ',',\n",
       " 'the',\n",
       " 'male',\n",
       " 'suicide',\n",
       " 'rate',\n",
       " 'is',\n",
       " 'seven',\n",
       " 'times',\n",
       " 'higher',\n",
       " 'than',\n",
       " 'in',\n",
       " 'the',\n",
       " 'general',\n",
       " 'population',\n",
       " '.',\n",
       " 'These',\n",
       " 'dreadful',\n",
       " 'figures',\n",
       " 'have',\n",
       " 'remained',\n",
       " 'relatively',\n",
       " 'stable',\n",
       " ',',\n",
       " 'even',\n",
       " 'as',\n",
       " 'government',\n",
       " 'spending',\n",
       " 'on',\n",
       " 'mental',\n",
       " 'and',\n",
       " 'welfare',\n",
       " 'help',\n",
       " 'contracted',\n",
       " 'sharply',\n",
       " 'with',\n",
       " 'the',\n",
       " 'onset',\n",
       " 'of',\n",
       " 'the',\n",
       " 'recession',\n",
       " '.']"
      ]
     },
     "execution_count": 13,
     "metadata": {},
     "output_type": "execute_result"
    }
   ],
   "source": [
    "from nltk import word_tokenize\n",
    "word_tokens = word_tokenize(para_two_string)\n",
    "word_tokens"
   ]
  },
  {
   "cell_type": "code",
   "execution_count": 14,
   "metadata": {},
   "outputs": [
    {
     "data": {
      "text/plain": [
       "['Poverty',\n",
       " ',',\n",
       " 'depression',\n",
       " ',',\n",
       " 'social',\n",
       " 'exclusion',\n",
       " ',',\n",
       " 'isolation',\n",
       " 'alcohol',\n",
       " 'drug',\n",
       " 'abuse',\n",
       " 'among',\n",
       " 'frequent',\n",
       " 'reasons',\n",
       " 'people',\n",
       " 'take',\n",
       " 'lives',\n",
       " '.',\n",
       " 'Men',\n",
       " 'four',\n",
       " 'times',\n",
       " 'likely',\n",
       " 'kill',\n",
       " 'women',\n",
       " '.',\n",
       " 'And',\n",
       " ',',\n",
       " 'within',\n",
       " 'Traveller',\n",
       " 'community',\n",
       " ',',\n",
       " 'male',\n",
       " 'suicide',\n",
       " 'rate',\n",
       " 'seven',\n",
       " 'times',\n",
       " 'higher',\n",
       " 'general',\n",
       " 'population',\n",
       " '.',\n",
       " 'These',\n",
       " 'dreadful',\n",
       " 'figures',\n",
       " 'remained',\n",
       " 'relatively',\n",
       " 'stable',\n",
       " ',',\n",
       " 'even',\n",
       " 'government',\n",
       " 'spending',\n",
       " 'mental',\n",
       " 'welfare',\n",
       " 'help',\n",
       " 'contracted',\n",
       " 'sharply',\n",
       " 'onset',\n",
       " 'recession',\n",
       " '.']"
      ]
     },
     "execution_count": 14,
     "metadata": {},
     "output_type": "execute_result"
    }
   ],
   "source": [
    "from nltk.corpus import stopwords\n",
    "stop_words = set(stopwords.words('english'))\n",
    "filtered_sentence = [] \n",
    "  \n",
    "for w in word_tokens: \n",
    "    if w not in stop_words: \n",
    "        filtered_sentence.append(w)\n",
    "filtered_sentence"
   ]
  },
  {
   "cell_type": "code",
   "execution_count": 15,
   "metadata": {},
   "outputs": [
    {
     "data": {
      "text/plain": [
       "['Poverty',\n",
       " 'depression',\n",
       " 'social',\n",
       " 'exclusion',\n",
       " 'isolation',\n",
       " 'alcohol',\n",
       " 'drug']"
      ]
     },
     "execution_count": 15,
     "metadata": {},
     "output_type": "execute_result"
    }
   ],
   "source": [
    "indices = (0,2,4,5,7,8,9)\n",
    "reasons = [filtered_sentence[i] for i in indices]\n",
    "reasons"
   ]
  },
  {
   "cell_type": "code",
   "execution_count": 16,
   "metadata": {},
   "outputs": [
    {
     "data": {
      "text/plain": [
       "list"
      ]
     },
     "execution_count": 16,
     "metadata": {},
     "output_type": "execute_result"
    }
   ],
   "source": [
    "reasons = list(reasons)\n",
    "type(reasons)"
   ]
  },
  {
   "cell_type": "code",
   "execution_count": 17,
   "metadata": {},
   "outputs": [
    {
     "data": {
      "text/plain": [
       "['Poverty',\n",
       " 'depression',\n",
       " 'social',\n",
       " 'exclusion',\n",
       " 'isolation',\n",
       " 'alcohol',\n",
       " 'drug']"
      ]
     },
     "execution_count": 17,
     "metadata": {},
     "output_type": "execute_result"
    }
   ],
   "source": [
    "reasons"
   ]
  },
  {
   "cell_type": "code",
   "execution_count": 18,
   "metadata": {},
   "outputs": [
    {
     "data": {
      "text/plain": [
       "['Poverty', 'depression', 'socialexclusion', 'isolation', 'alcohol', 'drug']"
      ]
     },
     "execution_count": 18,
     "metadata": {},
     "output_type": "execute_result"
    }
   ],
   "source": [
    "reasons[2:4] = [''.join(reasons[2:4])]\n",
    "reasons"
   ]
  },
  {
   "cell_type": "code",
   "execution_count": 19,
   "metadata": {},
   "outputs": [
    {
     "data": {
      "text/plain": [
       "list"
      ]
     },
     "execution_count": 19,
     "metadata": {},
     "output_type": "execute_result"
    }
   ],
   "source": [
    "type(reasons)"
   ]
  },
  {
   "cell_type": "code",
   "execution_count": 20,
   "metadata": {},
   "outputs": [
    {
     "data": {
      "text/html": [
       "<div>\n",
       "<style scoped>\n",
       "    .dataframe tbody tr th:only-of-type {\n",
       "        vertical-align: middle;\n",
       "    }\n",
       "\n",
       "    .dataframe tbody tr th {\n",
       "        vertical-align: top;\n",
       "    }\n",
       "\n",
       "    .dataframe thead th {\n",
       "        text-align: right;\n",
       "    }\n",
       "</style>\n",
       "<table border=\"1\" class=\"dataframe\">\n",
       "  <thead>\n",
       "    <tr style=\"text-align: right;\">\n",
       "      <th></th>\n",
       "      <th>Reasons</th>\n",
       "    </tr>\n",
       "  </thead>\n",
       "  <tbody>\n",
       "    <tr>\n",
       "      <th>0</th>\n",
       "      <td>Poverty</td>\n",
       "    </tr>\n",
       "    <tr>\n",
       "      <th>1</th>\n",
       "      <td>depression</td>\n",
       "    </tr>\n",
       "    <tr>\n",
       "      <th>2</th>\n",
       "      <td>socialexclusion</td>\n",
       "    </tr>\n",
       "    <tr>\n",
       "      <th>3</th>\n",
       "      <td>isolation</td>\n",
       "    </tr>\n",
       "    <tr>\n",
       "      <th>4</th>\n",
       "      <td>alcohol</td>\n",
       "    </tr>\n",
       "  </tbody>\n",
       "</table>\n",
       "</div>"
      ],
      "text/plain": [
       "           Reasons\n",
       "0          Poverty\n",
       "1       depression\n",
       "2  socialexclusion\n",
       "3        isolation\n",
       "4          alcohol"
      ]
     },
     "execution_count": 20,
     "metadata": {},
     "output_type": "execute_result"
    }
   ],
   "source": [
    "df = pd.DataFrame({'Reasons':reasons})\n",
    "df.head()"
   ]
  },
  {
   "cell_type": "code",
   "execution_count": 21,
   "metadata": {},
   "outputs": [],
   "source": [
    "unstructured = df.to_csv('reasons_for_suicide.csv',index=False)\n"
   ]
  }
 ],
 "metadata": {
  "kernelspec": {
   "display_name": "Python 3",
   "language": "python",
   "name": "python3"
  },
  "language_info": {
   "codemirror_mode": {
    "name": "ipython",
    "version": 3
   },
   "file_extension": ".py",
   "mimetype": "text/x-python",
   "name": "python",
   "nbconvert_exporter": "python",
   "pygments_lexer": "ipython3",
   "version": "3.7.0"
  }
 },
 "nbformat": 4,
 "nbformat_minor": 2
}
