{
 "cells": [
  {
   "cell_type": "code",
   "execution_count": 1,
   "metadata": {},
   "outputs": [
    {
     "name": "stdout",
     "output_type": "stream",
     "text": [
      "[nltk_data] Downloading package stopwords to\n",
      "[nltk_data]     /Users/saravananjaichandar/nltk_data...\n",
      "[nltk_data]   Package stopwords is already up-to-date!\n",
      "[nltk_data] Downloading package punkt to\n",
      "[nltk_data]     /Users/saravananjaichandar/nltk_data...\n",
      "[nltk_data]   Package punkt is already up-to-date!\n"
     ]
    },
    {
     "data": {
      "text/plain": [
       "'\\r\\n\\r\\n\\r\\n\\r\\n<!DOCTYPE html >\\r\\n<!--[if lt IE 7 ]> <html lang=\"en\" class=\"no-js ie6\"> <![endif]-->\\r\\n<!--[if IE 7 ]> <html lang=\"en\" class=\"no-js ie7\"> <![endif]-->\\r\\n<!--[if IE 8 ]> <html lang=\"en\" class=\"no-js ie8\"> <![endif]-->\\r\\n<!--[if IE 9 ]> <html lang=\"en\" class=\"no-js ie9\"> <![endif]-->\\r\\n<!--[if (gt IE 9)|!(IE)]><!-->\\r\\n<html lang=\"en\" class=\"no-js\">\\r\\n<!--<![endif]-->\\r\\n\\r\\n<head id=\"ctl00_ctl00_ctl00_Head1\"><title>\\r\\n\\tCauses of suicide - HSE.ie\\r\\n</title><meta itemprop=\"name\" content=\"Causes of suici'"
      ]
     },
     "execution_count": 1,
     "metadata": {},
     "output_type": "execute_result"
    }
   ],
   "source": [
    "import requests\n",
    "import pandas as pd\n",
    "from bs4 import BeautifulSoup\n",
    "import nltk\n",
    "nltk.download('stopwords')\n",
    "nltk.download('punkt')\n",
    "from nltk import word_tokenize\n",
    "from nltk.corpus import stopwords\n",
    "\n",
    "r = requests.get(\"https://www.hse.ie/eng/health/az/s/suicide/causes-of-suicide.html\")\n",
    "r.text[:500]"
   ]
  },
  {
   "cell_type": "code",
   "execution_count": 2,
   "metadata": {},
   "outputs": [
    {
     "data": {
      "text/plain": [
       "[<h4 class=\"panel-title\"><a aria-controls=\"collapse_1\" aria-expanded=\"false\" data-parent=\"#accordion\" data-toggle=\"collapse\" href=\"#collapse_1\" role=\"button\">Introduction</a></h4>,\n",
       " <h4 class=\"panel-title\"><a aria-controls=\"collapse_2\" aria-expanded=\"false\" data-parent=\"#accordion\" data-toggle=\"collapse\" href=\"#collapse_2\" role=\"button\">Suicide facts</a></h4>,\n",
       " <h4 class=\"panel-title\"><a aria-controls=\"collapse_3\" aria-expanded=\"false\" data-parent=\"#accordion\" data-toggle=\"collapse\" href=\"#collapse_3\" role=\"button\">Causes of suicide</a></h4>,\n",
       " <h4>Severe depression</h4>,\n",
       " <h4>Bipolar disorder</h4>,\n",
       " <h4>Schizophrenia</h4>,\n",
       " <h4>Borderline personality disorder</h4>,\n",
       " <h4>Anorexia nervosa </h4>,\n",
       " <h4>Generalised anxiety disorder</h4>,\n",
       " <h4 class=\"panel-title\"><a aria-controls=\"collapse_4\" aria-expanded=\"false\" data-parent=\"#accordion\" data-toggle=\"collapse\" href=\"#collapse_4\" role=\"button\">Warning signs of suicide</a></h4>,\n",
       " <h4 class=\"panel-title\"><a aria-controls=\"collapse_5\" aria-expanded=\"false\" data-parent=\"#accordion\" data-toggle=\"collapse\" href=\"#collapse_5\" role=\"button\">Getting help</a></h4>,\n",
       " <h4><br/>Samaritans</h4>,\n",
       " <h4>Childline</h4>,\n",
       " <h4 class=\"panel-title\"><a aria-controls=\"collapse_6\" aria-expanded=\"false\" data-parent=\"#accordion\" data-toggle=\"collapse\" href=\"#collapse_6\" role=\"button\">Helping others</a></h4>,\n",
       " <h4>Listen</h4>,\n",
       " <h4>Do not judge</h4>,\n",
       " <h4>Empathise</h4>,\n",
       " <h4>What not to say</h4>,\n",
       " <h4>What to say </h4>,\n",
       " <h4 class=\"panel-title\"><a aria-controls=\"collapse_7\" aria-expanded=\"false\" data-parent=\"#accordion\" data-toggle=\"collapse\" href=\"#collapse_7\" role=\"button\">Preventing suicide</a></h4>]"
      ]
     },
     "execution_count": 2,
     "metadata": {},
     "output_type": "execute_result"
    }
   ],
   "source": [
    "soup = BeautifulSoup(r.text,'html.parser')\n",
    "results = soup.find_all('h4')\n",
    "results"
   ]
  },
  {
   "cell_type": "code",
   "execution_count": 3,
   "metadata": {},
   "outputs": [
    {
     "data": {
      "text/plain": [
       "[['Bipolar disorder'],\n",
       " ['Schizophrenia'],\n",
       " ['Borderline personality disorder'],\n",
       " ['Anorexia nervosa\\xa0'],\n",
       " ['Generalised anxiety disorder']]"
      ]
     },
     "execution_count": 3,
     "metadata": {},
     "output_type": "execute_result"
    }
   ],
   "source": [
    "indices = (4,5,6,7,8)\n",
    "reasons = [results[i].contents for i in indices]\n",
    "reasons"
   ]
  },
  {
   "cell_type": "code",
   "execution_count": 4,
   "metadata": {},
   "outputs": [
    {
     "data": {
      "text/plain": [
       "list"
      ]
     },
     "execution_count": 4,
     "metadata": {},
     "output_type": "execute_result"
    }
   ],
   "source": [
    "type(reasons)"
   ]
  },
  {
   "cell_type": "code",
   "execution_count": 5,
   "metadata": {},
   "outputs": [
    {
     "data": {
      "text/plain": [
       "['Bipolar disorder',\n",
       " 'Schizophrenia',\n",
       " 'Borderline personality disorder',\n",
       " 'Anorexia nervosa\\xa0',\n",
       " 'Generalised anxiety disorder']"
      ]
     },
     "execution_count": 5,
     "metadata": {},
     "output_type": "execute_result"
    }
   ],
   "source": [
    "import itertools\n",
    "reasons = list(itertools.chain.from_iterable(reasons))\n",
    "reasons"
   ]
  },
  {
   "cell_type": "code",
   "execution_count": 6,
   "metadata": {},
   "outputs": [
    {
     "data": {
      "text/plain": [
       "list"
      ]
     },
     "execution_count": 6,
     "metadata": {},
     "output_type": "execute_result"
    }
   ],
   "source": [
    "type(reasons)"
   ]
  },
  {
   "cell_type": "code",
   "execution_count": 7,
   "metadata": {},
   "outputs": [
    {
     "data": {
      "text/plain": [
       "['Bipolar disorder',\n",
       " 'Schizophrenia',\n",
       " 'Borderline personality disorder',\n",
       " 'Anorexia nervosa',\n",
       " 'Generalised anxiety disorder']"
      ]
     },
     "execution_count": 7,
     "metadata": {},
     "output_type": "execute_result"
    }
   ],
   "source": [
    "reasons[3] = reasons[3].strip('\\xa0')\n",
    "reasons"
   ]
  },
  {
   "cell_type": "code",
   "execution_count": 8,
   "metadata": {},
   "outputs": [
    {
     "data": {
      "text/html": [
       "<div>\n",
       "<style scoped>\n",
       "    .dataframe tbody tr th:only-of-type {\n",
       "        vertical-align: middle;\n",
       "    }\n",
       "\n",
       "    .dataframe tbody tr th {\n",
       "        vertical-align: top;\n",
       "    }\n",
       "\n",
       "    .dataframe thead th {\n",
       "        text-align: right;\n",
       "    }\n",
       "</style>\n",
       "<table border=\"1\" class=\"dataframe\">\n",
       "  <thead>\n",
       "    <tr style=\"text-align: right;\">\n",
       "      <th></th>\n",
       "      <th>Reasons</th>\n",
       "    </tr>\n",
       "  </thead>\n",
       "  <tbody>\n",
       "    <tr>\n",
       "      <th>0</th>\n",
       "      <td>Bipolar disorder</td>\n",
       "    </tr>\n",
       "    <tr>\n",
       "      <th>1</th>\n",
       "      <td>Schizophrenia</td>\n",
       "    </tr>\n",
       "    <tr>\n",
       "      <th>2</th>\n",
       "      <td>Borderline personality disorder</td>\n",
       "    </tr>\n",
       "    <tr>\n",
       "      <th>3</th>\n",
       "      <td>Anorexia nervosa</td>\n",
       "    </tr>\n",
       "    <tr>\n",
       "      <th>4</th>\n",
       "      <td>Generalised anxiety disorder</td>\n",
       "    </tr>\n",
       "  </tbody>\n",
       "</table>\n",
       "</div>"
      ],
      "text/plain": [
       "                           Reasons\n",
       "0                 Bipolar disorder\n",
       "1                    Schizophrenia\n",
       "2  Borderline personality disorder\n",
       "3                 Anorexia nervosa\n",
       "4     Generalised anxiety disorder"
      ]
     },
     "execution_count": 8,
     "metadata": {},
     "output_type": "execute_result"
    }
   ],
   "source": [
    "df = pd.DataFrame({'Reasons':reasons})\n",
    "df.head()"
   ]
  },
  {
   "cell_type": "code",
   "execution_count": 9,
   "metadata": {},
   "outputs": [],
   "source": [
    "unstructured_one = df.to_csv('reasons_for_suicide_one.csv',index=False)"
   ]
  },
  {
   "cell_type": "code",
   "execution_count": 12,
   "metadata": {},
   "outputs": [
    {
     "data": {
      "text/html": [
       "<div>\n",
       "<style scoped>\n",
       "    .dataframe tbody tr th:only-of-type {\n",
       "        vertical-align: middle;\n",
       "    }\n",
       "\n",
       "    .dataframe tbody tr th {\n",
       "        vertical-align: top;\n",
       "    }\n",
       "\n",
       "    .dataframe thead th {\n",
       "        text-align: right;\n",
       "    }\n",
       "</style>\n",
       "<table border=\"1\" class=\"dataframe\">\n",
       "  <thead>\n",
       "    <tr style=\"text-align: right;\">\n",
       "      <th></th>\n",
       "      <th>Reasons</th>\n",
       "    </tr>\n",
       "  </thead>\n",
       "  <tbody>\n",
       "    <tr>\n",
       "      <th>0</th>\n",
       "      <td>Poverty</td>\n",
       "    </tr>\n",
       "    <tr>\n",
       "      <th>1</th>\n",
       "      <td>depression</td>\n",
       "    </tr>\n",
       "    <tr>\n",
       "      <th>2</th>\n",
       "      <td>socialexclusion</td>\n",
       "    </tr>\n",
       "    <tr>\n",
       "      <th>3</th>\n",
       "      <td>isolation</td>\n",
       "    </tr>\n",
       "    <tr>\n",
       "      <th>4</th>\n",
       "      <td>alcohol</td>\n",
       "    </tr>\n",
       "  </tbody>\n",
       "</table>\n",
       "</div>"
      ],
      "text/plain": [
       "           Reasons\n",
       "0          Poverty\n",
       "1       depression\n",
       "2  socialexclusion\n",
       "3        isolation\n",
       "4          alcohol"
      ]
     },
     "execution_count": 12,
     "metadata": {},
     "output_type": "execute_result"
    }
   ],
   "source": [
    "f1 = pd.read_csv('reasons_for_suicide.csv')\n",
    "f1.head()"
   ]
  },
  {
   "cell_type": "code",
   "execution_count": 13,
   "metadata": {},
   "outputs": [
    {
     "data": {
      "text/html": [
       "<div>\n",
       "<style scoped>\n",
       "    .dataframe tbody tr th:only-of-type {\n",
       "        vertical-align: middle;\n",
       "    }\n",
       "\n",
       "    .dataframe tbody tr th {\n",
       "        vertical-align: top;\n",
       "    }\n",
       "\n",
       "    .dataframe thead th {\n",
       "        text-align: right;\n",
       "    }\n",
       "</style>\n",
       "<table border=\"1\" class=\"dataframe\">\n",
       "  <thead>\n",
       "    <tr style=\"text-align: right;\">\n",
       "      <th></th>\n",
       "      <th>Reasons</th>\n",
       "    </tr>\n",
       "  </thead>\n",
       "  <tbody>\n",
       "    <tr>\n",
       "      <th>0</th>\n",
       "      <td>Bipolar disorder</td>\n",
       "    </tr>\n",
       "    <tr>\n",
       "      <th>1</th>\n",
       "      <td>Schizophrenia</td>\n",
       "    </tr>\n",
       "    <tr>\n",
       "      <th>2</th>\n",
       "      <td>Borderline personality disorder</td>\n",
       "    </tr>\n",
       "    <tr>\n",
       "      <th>3</th>\n",
       "      <td>Anorexia nervosa</td>\n",
       "    </tr>\n",
       "    <tr>\n",
       "      <th>4</th>\n",
       "      <td>Generalised anxiety disorder</td>\n",
       "    </tr>\n",
       "  </tbody>\n",
       "</table>\n",
       "</div>"
      ],
      "text/plain": [
       "                           Reasons\n",
       "0                 Bipolar disorder\n",
       "1                    Schizophrenia\n",
       "2  Borderline personality disorder\n",
       "3                 Anorexia nervosa\n",
       "4     Generalised anxiety disorder"
      ]
     },
     "execution_count": 13,
     "metadata": {},
     "output_type": "execute_result"
    }
   ],
   "source": [
    "f2 = pd.read_csv('reasons_for_suicide_one.csv')\n",
    "f2.head()"
   ]
  },
  {
   "cell_type": "code",
   "execution_count": 14,
   "metadata": {},
   "outputs": [
    {
     "data": {
      "text/html": [
       "<div>\n",
       "<style scoped>\n",
       "    .dataframe tbody tr th:only-of-type {\n",
       "        vertical-align: middle;\n",
       "    }\n",
       "\n",
       "    .dataframe tbody tr th {\n",
       "        vertical-align: top;\n",
       "    }\n",
       "\n",
       "    .dataframe thead th {\n",
       "        text-align: right;\n",
       "    }\n",
       "</style>\n",
       "<table border=\"1\" class=\"dataframe\">\n",
       "  <thead>\n",
       "    <tr style=\"text-align: right;\">\n",
       "      <th></th>\n",
       "      <th>Reasons</th>\n",
       "    </tr>\n",
       "  </thead>\n",
       "  <tbody>\n",
       "    <tr>\n",
       "      <th>0</th>\n",
       "      <td>Poverty</td>\n",
       "    </tr>\n",
       "    <tr>\n",
       "      <th>1</th>\n",
       "      <td>depression</td>\n",
       "    </tr>\n",
       "    <tr>\n",
       "      <th>2</th>\n",
       "      <td>socialexclusion</td>\n",
       "    </tr>\n",
       "    <tr>\n",
       "      <th>3</th>\n",
       "      <td>isolation</td>\n",
       "    </tr>\n",
       "    <tr>\n",
       "      <th>4</th>\n",
       "      <td>alcohol</td>\n",
       "    </tr>\n",
       "  </tbody>\n",
       "</table>\n",
       "</div>"
      ],
      "text/plain": [
       "           Reasons\n",
       "0          Poverty\n",
       "1       depression\n",
       "2  socialexclusion\n",
       "3        isolation\n",
       "4          alcohol"
      ]
     },
     "execution_count": 14,
     "metadata": {},
     "output_type": "execute_result"
    }
   ],
   "source": [
    "f3 = pd.concat([f1,f2],axis=0)\n",
    "f3.head()"
   ]
  },
  {
   "cell_type": "code",
   "execution_count": null,
   "metadata": {},
   "outputs": [],
   "source": []
  }
 ],
 "metadata": {
  "kernelspec": {
   "display_name": "Python 3",
   "language": "python",
   "name": "python3"
  },
  "language_info": {
   "codemirror_mode": {
    "name": "ipython",
    "version": 3
   },
   "file_extension": ".py",
   "mimetype": "text/x-python",
   "name": "python",
   "nbconvert_exporter": "python",
   "pygments_lexer": "ipython3",
   "version": "3.7.0"
  }
 },
 "nbformat": 4,
 "nbformat_minor": 2
}
